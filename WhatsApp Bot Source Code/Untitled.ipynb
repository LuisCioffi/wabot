{
 "cells": [
  {
   "cell_type": "code",
   "execution_count": 13,
   "id": "bea8d295-e7aa-4446-b315-c863fd8828e2",
   "metadata": {},
   "outputs": [
    {
     "name": "stdout",
     "output_type": "stream",
     "text": [
      "Requirement already satisfied: twilio in c:\\users\\cioffil\\desktop\\ds\\github\\wabot\\whatsapp bot source code\\venv\\lib\\site-packages (7.7.0)\n",
      "Requirement already satisfied: PyJWT<3.0.0,>=2.0.0 in c:\\users\\cioffil\\desktop\\ds\\github\\wabot\\whatsapp bot source code\\venv\\lib\\site-packages (from twilio) (2.3.0)\n",
      "Requirement already satisfied: requests>=2.0.0 in c:\\users\\cioffil\\desktop\\ds\\github\\wabot\\whatsapp bot source code\\venv\\lib\\site-packages (from twilio) (2.27.1)\n",
      "Requirement already satisfied: pytz in c:\\users\\cioffil\\desktop\\ds\\github\\wabot\\whatsapp bot source code\\venv\\lib\\site-packages (from twilio) (2021.3)\n",
      "Requirement already satisfied: charset-normalizer~=2.0.0 in c:\\users\\cioffil\\desktop\\ds\\github\\wabot\\whatsapp bot source code\\venv\\lib\\site-packages (from requests>=2.0.0->twilio) (2.0.12)\n",
      "Requirement already satisfied: idna<4,>=2.5 in c:\\users\\cioffil\\desktop\\ds\\github\\wabot\\whatsapp bot source code\\venv\\lib\\site-packages (from requests>=2.0.0->twilio) (3.3)\n",
      "Requirement already satisfied: certifi>=2017.4.17 in c:\\users\\cioffil\\desktop\\ds\\github\\wabot\\whatsapp bot source code\\venv\\lib\\site-packages (from requests>=2.0.0->twilio) (2021.10.8)\n",
      "Requirement already satisfied: urllib3<1.27,>=1.21.1 in c:\\users\\cioffil\\desktop\\ds\\github\\wabot\\whatsapp bot source code\\venv\\lib\\site-packages (from requests>=2.0.0->twilio) (1.26.8)\n"
     ]
    }
   ],
   "source": [
    "!pip install twilio"
   ]
  },
  {
   "cell_type": "code",
   "execution_count": 4,
   "id": "b6a34fb5-918c-4a84-bf81-b5c54d2c6863",
   "metadata": {},
   "outputs": [
    {
     "ename": "ModuleNotFoundError",
     "evalue": "No module named 'pyautogui'",
     "output_type": "error",
     "traceback": [
      "\u001b[1;31m---------------------------------------------------------------------------\u001b[0m",
      "\u001b[1;31mModuleNotFoundError\u001b[0m                       Traceback (most recent call last)",
      "Input \u001b[1;32mIn [4]\u001b[0m, in \u001b[0;36m<cell line: 1>\u001b[1;34m()\u001b[0m\n\u001b[1;32m----> 1\u001b[0m \u001b[38;5;28;01mimport\u001b[39;00m \u001b[38;5;21;01mpyautogui\u001b[39;00m \u001b[38;5;28;01mas\u001b[39;00m \u001b[38;5;21;01mpt\u001b[39;00m\n",
      "\u001b[1;31mModuleNotFoundError\u001b[0m: No module named 'pyautogui'"
     ]
    }
   ],
   "source": [
    "import pyautogui as pt"
   ]
  },
  {
   "cell_type": "code",
   "execution_count": null,
   "id": "2885d6e6",
   "metadata": {},
   "outputs": [],
   "source": []
  },
  {
   "cell_type": "code",
   "execution_count": 3,
   "id": "4259350f",
   "metadata": {},
   "outputs": [
    {
     "name": "stdout",
     "output_type": "stream",
     "text": [
      "C:\\Users\\cioffil\\Desktop\\DS\\Github\\wabot\\WhatsApp Bot Source Code\n"
     ]
    }
   ],
   "source": [
    "import os\n",
    "print(os.getcwd())"
   ]
  },
  {
   "cell_type": "code",
   "execution_count": 2,
   "id": "bfdfb013-9707-478a-8bdb-d542983637da",
   "metadata": {},
   "outputs": [],
   "source": [
    "import pandas as pd"
   ]
  },
  {
   "cell_type": "code",
   "execution_count": 6,
   "id": "a518783d-49ad-4448-968d-c468f8e7c513",
   "metadata": {},
   "outputs": [
    {
     "ename": "ModuleNotFoundError",
     "evalue": "No module named 'pyautogui'",
     "output_type": "error",
     "traceback": [
      "\u001b[1;31m---------------------------------------------------------------------------\u001b[0m",
      "\u001b[1;31mModuleNotFoundError\u001b[0m                       Traceback (most recent call last)",
      "Input \u001b[1;32mIn [6]\u001b[0m, in \u001b[0;36m<cell line: 1>\u001b[1;34m()\u001b[0m\n\u001b[1;32m----> 1\u001b[0m \u001b[38;5;28;01mimport\u001b[39;00m \u001b[38;5;21;01mpyautogui\u001b[39;00m \u001b[38;5;28;01mas\u001b[39;00m \u001b[38;5;21;01mpt\u001b[39;00m\n\u001b[0;32m      2\u001b[0m \u001b[38;5;28;01mimport\u001b[39;00m \u001b[38;5;21;01mpyperclip\u001b[39;00m \u001b[38;5;28;01mas\u001b[39;00m \u001b[38;5;21;01mpc\u001b[39;00m\n\u001b[0;32m      3\u001b[0m \u001b[38;5;28;01mfrom\u001b[39;00m \u001b[38;5;21;01mpynput\u001b[39;00m\u001b[38;5;21;01m.\u001b[39;00m\u001b[38;5;21;01mmouse\u001b[39;00m \u001b[38;5;28;01mimport\u001b[39;00m Controller, Button\n",
      "\u001b[1;31mModuleNotFoundError\u001b[0m: No module named 'pyautogui'"
     ]
    }
   ],
   "source": [
    "import pyautogui as pt\n",
    "import pyperclip as pc\n",
    "from pynput.mouse import Controller, Button\n",
    "from time import sleep\n",
    "from whatsapp_responses import response\n",
    "\n",
    "# Requires opencv-python package for image recognition confidence\n",
    "\n",
    "# Mouse click workaround for MAC OS\n",
    "mouse = Controller()\n",
    "\n",
    "\n",
    "# Instructions for our WhatsApp Bot\n",
    "class WhatsApp:\n",
    "\n",
    "    # Defines the starting values\n",
    "    def __init__(self, speed=.5, click_speed=.3):\n",
    "        self.speed = speed\n",
    "        self.click_speed = click_speed\n",
    "        self.message = ''\n",
    "        self.last_message = ''\n",
    "\n",
    "    # Navigate to the green dots for new messages\n",
    "    def nav_green_dot(self):\n",
    "        try:\n",
    "            position = pt.locateOnScreen('green_dot.png', confidence=.7)\n",
    "            pt.moveTo(position[0:2], duration=self.speed)\n",
    "            pt.moveRel(-100, 0, duration=self.speed)\n",
    "            pt.doubleClick(interval=self.click_speed)\n",
    "        except Exception as e:\n",
    "            print('Exception (nav_green_dot): ', e)\n",
    "\n",
    "    # Navigate to our message input box\n",
    "    def nav_input_box(self):\n",
    "        try:\n",
    "            position = pt.locateOnScreen('paperclip.png', confidence=.7)\n",
    "            pt.moveTo(position[0:2], duration=self.speed)\n",
    "            pt.moveRel(100, 10, duration=self.speed)\n",
    "            pt.doubleClick(interval=self.click_speed)\n",
    "        except Exception as e:\n",
    "            print('Exception (nav_input_box): ', e)\n",
    "\n",
    "    # Navigates to the message we want to respond to\n",
    "    def nav_message(self):\n",
    "        try:\n",
    "            position = pt.locateOnScreen('paperclip.png', confidence=.7)\n",
    "            pt.moveTo(position[0:2], duration=self.speed)\n",
    "            pt.moveRel(10, -50, duration=self.speed)  # x,y has to be adjusted depending on your computer\n",
    "        except Exception as e:\n",
    "            print('Exception (nav_message): ', e)\n",
    "\n",
    "    # Copies the message that we want to process\n",
    "    def get_message(self):\n",
    "        mouse.click(Button.left, 3)\n",
    "        sleep(self.speed)\n",
    "        mouse.click(Button.right, 1)\n",
    "        sleep(self.speed)\n",
    "        pt.moveRel(10, 10, duration=self.speed)  # x,y has to be adjusted depending on your computer\n",
    "        mouse.click(Button.left, 1)\n",
    "        sleep(1)\n",
    "\n",
    "        # Gets and processes the message\n",
    "        self.message = pc.paste()\n",
    "        print('User says: ', self.message)\n",
    "\n",
    "    # Sends the message to the user\n",
    "    def send_message(self):\n",
    "        try:\n",
    "            # Checks whether the last message was the same\n",
    "            if self.message != self.last_message:\n",
    "                bot_response = response(self.message)\n",
    "                print('You say: ', bot_response)\n",
    "                pt.typewrite(bot_response, interval=.1)\n",
    "                pt.typewrite('\\n')  # Sends the message (Disable it while testing)\n",
    "\n",
    "                # Assigns them the same message\n",
    "                self.last_message = self.message\n",
    "            else:\n",
    "                print('No new messages...')\n",
    "\n",
    "        except Exception as e:\n",
    "            print('Exception (send_message): ', e)\n",
    "\n",
    "    # Close response box\n",
    "    def nav_x(self):\n",
    "        try:\n",
    "            position = pt.locateOnScreen('x.png', confidence=.7)\n",
    "            pt.moveTo(position[0:2], duration=self.speed)\n",
    "            pt.moveRel(10, 10, duration=self.speed)  # x,y has to be adjusted depending on your computer\n",
    "            mouse.click(Button.left, 1)\n",
    "        except Exception as e:\n",
    "            print('Exception (nav_x): ', e)\n",
    "\n",
    "\n",
    "# Initialises the WhatsApp Bot\n",
    "wa_bot = WhatsApp(speed=.5, click_speed=.4)\n",
    "\n",
    "# Run the programme in a loop\n",
    "while True:\n",
    "    wa_bot.nav_green_dot()\n",
    "    wa_bot.nav_x()\n",
    "    wa_bot.nav_message()\n",
    "    wa_bot.get_message()\n",
    "    wa_bot.nav_input_box()\n",
    "    wa_bot.send_message()\n",
    "\n",
    "    # Delay between checking for new messages\n",
    "    sleep(10)\n"
   ]
  },
  {
   "cell_type": "code",
   "execution_count": 11,
   "id": "cdbeaabd",
   "metadata": {},
   "outputs": [
    {
     "name": "stdout",
     "output_type": "stream",
     "text": [
      "Requirement already satisfied: twilio in c:\\users\\cioffil\\desktop\\ds\\github\\wabot\\whatsapp bot source code\\venv\\lib\\site-packages (7.7.0)\n",
      "Requirement already satisfied: pytz in c:\\users\\cioffil\\desktop\\ds\\github\\wabot\\whatsapp bot source code\\venv\\lib\\site-packages (from twilio) (2021.3)\n",
      "Requirement already satisfied: requests>=2.0.0 in c:\\users\\cioffil\\desktop\\ds\\github\\wabot\\whatsapp bot source code\\venv\\lib\\site-packages (from twilio) (2.27.1)\n",
      "Requirement already satisfied: PyJWT<3.0.0,>=2.0.0 in c:\\users\\cioffil\\desktop\\ds\\github\\wabot\\whatsapp bot source code\\venv\\lib\\site-packages (from twilio) (2.3.0)\n",
      "Requirement already satisfied: urllib3<1.27,>=1.21.1 in c:\\users\\cioffil\\desktop\\ds\\github\\wabot\\whatsapp bot source code\\venv\\lib\\site-packages (from requests>=2.0.0->twilio) (1.26.8)\n",
      "Requirement already satisfied: charset-normalizer~=2.0.0 in c:\\users\\cioffil\\desktop\\ds\\github\\wabot\\whatsapp bot source code\\venv\\lib\\site-packages (from requests>=2.0.0->twilio) (2.0.12)\n",
      "Requirement already satisfied: idna<4,>=2.5 in c:\\users\\cioffil\\desktop\\ds\\github\\wabot\\whatsapp bot source code\\venv\\lib\\site-packages (from requests>=2.0.0->twilio) (3.3)\n",
      "Requirement already satisfied: certifi>=2017.4.17 in c:\\users\\cioffil\\desktop\\ds\\github\\wabot\\whatsapp bot source code\\venv\\lib\\site-packages (from requests>=2.0.0->twilio) (2021.10.8)\n"
     ]
    }
   ],
   "source": [
    "!pip install twilio"
   ]
  },
  {
   "cell_type": "code",
   "execution_count": 14,
   "id": "5a5a0dc8",
   "metadata": {},
   "outputs": [
    {
     "ename": "ModuleNotFoundError",
     "evalue": "No module named 'twilio'",
     "output_type": "error",
     "traceback": [
      "\u001b[1;31m---------------------------------------------------------------------------\u001b[0m",
      "\u001b[1;31mModuleNotFoundError\u001b[0m                       Traceback (most recent call last)",
      "Input \u001b[1;32mIn [14]\u001b[0m, in \u001b[0;36m<cell line: 3>\u001b[1;34m()\u001b[0m\n\u001b[0;32m      1\u001b[0m \u001b[38;5;28;01mimport\u001b[39;00m \u001b[38;5;21;01mlogging\u001b[39;00m\n\u001b[0;32m      2\u001b[0m \u001b[38;5;28;01mimport\u001b[39;00m \u001b[38;5;21;01mrequests\u001b[39;00m\n\u001b[1;32m----> 3\u001b[0m \u001b[38;5;28;01mfrom\u001b[39;00m \u001b[38;5;21;01mtwilio\u001b[39;00m\u001b[38;5;21;01m.\u001b[39;00m\u001b[38;5;21;01mtwiml\u001b[39;00m\u001b[38;5;21;01m.\u001b[39;00m\u001b[38;5;21;01mmessaging_response\u001b[39;00m \u001b[38;5;28;01mimport\u001b[39;00m MessagingResponse\n\u001b[0;32m      5\u001b[0m logger \u001b[38;5;241m=\u001b[39m logging\u001b[38;5;241m.\u001b[39mgetLogger(\u001b[38;5;18m__name__\u001b[39m)\n\u001b[0;32m      8\u001b[0m \u001b[38;5;28;01mdef\u001b[39;00m \u001b[38;5;21mwhatsapp_webhook\u001b[39m(request):\n",
      "\u001b[1;31mModuleNotFoundError\u001b[0m: No module named 'twilio'"
     ]
    }
   ],
   "source": [
    "import logging\n",
    "import requests\n",
    "from twilio.twiml.messaging_response import MessagingResponse\n",
    "\n",
    "logger = logging.getLogger(__name__)\n",
    "\n",
    "\n",
    "def whatsapp_webhook(request):\n",
    "    \"\"\"HTTP Cloud Function.\n",
    "    Parameters\n",
    "    ----------\n",
    "    request (flask.Request) : The request object.\n",
    "        <https://flask.palletsprojects.com/en/1.1.x/api/#incoming-request-data>\n",
    "    Returns\n",
    "    -------\n",
    "        The response text, or any set of values that can be turned into a\n",
    "        Response object using `make_response`\n",
    "        <https://flask.palletsprojects.com/en/1.1.x/api/#flask.make_response>.\n",
    "    \"\"\"\n",
    "\n",
    "    country = request.values.get('Body', \"\").lower()\n",
    "    resp = requests.get(f'https://restcountries.eu/rest/v2/name/{country}?fullText=true')\n",
    "    twilio_response = MessagingResponse()\n",
    "    msg = twilio_response.message()\n",
    "    if not (200 <= resp.status_code <= 299):\n",
    "        logger.error(\n",
    "            f'Failed to retrieve data for the following country - {country.title()}. Here is a more verbose reason {resp.reason}'\n",
    "        )\n",
    "        msg.body(\n",
    "            'Sorry we could not process your request. Please try again or check a different country'\n",
    "        )\n",
    "    else:\n",
    "        data = resp.json()[0]\n",
    "        native_name = data['nativeName']\n",
    "        capital = data['capital']\n",
    "        people = data['demonym']\n",
    "        region = data['region']\n",
    "        msg.body(\n",
    "            f\"{country.title()} is a country in {region}. It's capital city is {capital}, while it's native name is {native_name}. A person from {country.title()} is called a {people}.\"\n",
    "        )\n",
    "    return str(twilio_response)\n"
   ]
  }
 ],
 "metadata": {
  "kernelspec": {
   "display_name": "wapp",
   "language": "python",
   "name": "wapp"
  },
  "language_info": {
   "codemirror_mode": {
    "name": "ipython",
    "version": 3
   },
   "file_extension": ".py",
   "mimetype": "text/x-python",
   "name": "python",
   "nbconvert_exporter": "python",
   "pygments_lexer": "ipython3",
   "version": "3.9.10"
  }
 },
 "nbformat": 4,
 "nbformat_minor": 5
}
