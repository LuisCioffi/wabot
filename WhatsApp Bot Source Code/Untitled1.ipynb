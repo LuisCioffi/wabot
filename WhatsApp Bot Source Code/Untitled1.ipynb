{
 "cells": [
  {
   "cell_type": "code",
   "execution_count": 10,
   "id": "a58283f4",
   "metadata": {},
   "outputs": [
    {
     "name": "stdout",
     "output_type": "stream",
     "text": [
      "Exception (nav_green_dot):  The Pillow package is required to use this function.\n",
      "Exception (nav_x):  The Pillow package is required to use this function.\n",
      "Exception (nav_message):  The Pillow package is required to use this function.\n",
      "User says:        2 import pyperclip as pc\n",
      "\n",
      "Exception (nav_input_box):  The Pillow package is required to use this function.\n",
      "You say:  Cool!\n",
      "Exception (nav_green_dot):  The Pillow package is required to use this function.\n",
      "Exception (nav_x):  The Pillow package is required to use this function.\n",
      "Exception (nav_message):  The Pillow package is required to use this function.\n",
      "User says:        2 import pyperclip as pc\n",
      "\n",
      "Exception (nav_input_box):  The Pillow package is required to use this function.\n",
      "No new messages...\n",
      "Exception (nav_green_dot):  The Pillow package is required to use this function.\n",
      "Exception (nav_x):  The Pillow package is required to use this function.\n",
      "Exception (nav_message):  The Pillow package is required to use this function.\n",
      "User says:        2 import pyperclip as pc\n",
      "\n",
      "Exception (nav_input_box):  The Pillow package is required to use this function.\n",
      "No new messages...\n",
      "Exception (nav_green_dot):  The Pillow package is required to use this function.\n",
      "Exception (nav_x):  The Pillow package is required to use this function.\n",
      "Exception (nav_message):  The Pillow package is required to use this function.\n",
      "User says:        2 import pyperclip as pc\n",
      "\n",
      "Exception (nav_input_box):  The Pillow package is required to use this function.\n",
      "No new messages...\n",
      "Exception (nav_green_dot):  The Pillow package is required to use this function.\n",
      "Exception (nav_x):  The Pillow package is required to use this function.\n",
      "Exception (nav_message):  The Pillow package is required to use this function.\n",
      "User says:        2 import pyperclip as pc\n",
      "\n",
      "Exception (nav_input_box):  The Pillow package is required to use this function.\n",
      "No new messages...\n",
      "Exception (nav_green_dot):  The Pillow package is required to use this function.\n",
      "Exception (nav_x):  The Pillow package is required to use this function.\n",
      "Exception (nav_message):  The Pillow package is required to use this function.\n",
      "User says:        2 import pyperclip as pc\n",
      "\n",
      "Exception (nav_input_box):  The Pillow package is required to use this function.\n",
      "No new messages...\n",
      "Exception (nav_green_dot):  The Pillow package is required to use this function.\n",
      "Exception (nav_x):  The Pillow package is required to use this function.\n",
      "Exception (nav_message):  The Pillow package is required to use this function.\n",
      "User says:        2 import pyperclip as pc\n",
      "\n",
      "Exception (nav_input_box):  The Pillow package is required to use this function.\n",
      "No new messages...\n",
      "Exception (nav_green_dot):  The Pillow package is required to use this function.\n",
      "Exception (nav_x):  The Pillow package is required to use this function.\n",
      "Exception (nav_message):  The Pillow package is required to use this function.\n",
      "User says:        2 import pyperclip as pc\n",
      "\n",
      "Exception (nav_input_box):  The Pillow package is required to use this function.\n",
      "No new messages...\n",
      "Exception (nav_green_dot):  The Pillow package is required to use this function.\n",
      "Exception (nav_x):  The Pillow package is required to use this function.\n",
      "Exception (nav_message):  The Pillow package is required to use this function.\n",
      "User says:        2 import pyperclip as pc\n",
      "\n",
      "Exception (nav_input_box):  The Pillow package is required to use this function.\n",
      "No new messages...\n",
      "Exception (nav_green_dot):  The Pillow package is required to use this function.\n",
      "Exception (nav_x):  The Pillow package is required to use this function.\n",
      "Exception (nav_message):  The Pillow package is required to use this function.\n",
      "User says:        2 import pyperclip as pc\n",
      "\n",
      "Exception (nav_input_box):  The Pillow package is required to use this function.\n",
      "No new messages...\n",
      "Exception (nav_green_dot):  The Pillow package is required to use this function.\n",
      "Exception (nav_x):  The Pillow package is required to use this function.\n",
      "Exception (nav_message):  The Pillow package is required to use this function.\n",
      "User says:        2 import pyperclip as pc\n",
      "\n",
      "Exception (nav_input_box):  The Pillow package is required to use this function.\n",
      "No new messages...\n",
      "Exception (nav_green_dot):  The Pillow package is required to use this function.\n",
      "Exception (nav_x):  The Pillow package is required to use this function.\n",
      "Exception (nav_message):  The Pillow package is required to use this function.\n",
      "User says:      wa_bot.nav_message()\n",
      "\n",
      "Exception (nav_input_box):  The Pillow package is required to use this function.\n",
      "You say:  Cool!\n"
     ]
    },
    {
     "ename": "KeyboardInterrupt",
     "evalue": "",
     "output_type": "error",
     "traceback": [
      "\u001b[1;31m---------------------------------------------------------------------------\u001b[0m",
      "\u001b[1;31mKeyboardInterrupt\u001b[0m                         Traceback (most recent call last)",
      "Input \u001b[1;32mIn [10]\u001b[0m, in \u001b[0;36m<cell line: 100>\u001b[1;34m()\u001b[0m\n\u001b[0;32m    105\u001b[0m wa_bot\u001b[38;5;241m.\u001b[39msend_message()\n\u001b[0;32m    107\u001b[0m \u001b[38;5;66;03m# Delay between checking for new messages\u001b[39;00m\n\u001b[1;32m--> 108\u001b[0m \u001b[43msleep\u001b[49m\u001b[43m(\u001b[49m\u001b[38;5;241;43m10\u001b[39;49m\u001b[43m)\u001b[49m\n",
      "\u001b[1;31mKeyboardInterrupt\u001b[0m: "
     ]
    }
   ],
   "source": [
    "import pyautogui as pt\n",
    "import pyperclip as pc\n",
    "from pynput.mouse import Controller, Button\n",
    "from time import sleep\n",
    "from whatsapp_responses import response\n",
    "\n",
    "# Requires opencv-python package for image recognition confidence\n",
    "\n",
    "# Mouse click workaround for MAC OS\n",
    "mouse = Controller()\n",
    "\n",
    "\n",
    "# Instructions for our WhatsApp Bot\n",
    "class WhatsApp:\n",
    "\n",
    "    # Defines the starting values\n",
    "    def __init__(self, speed=.5, click_speed=.3):\n",
    "        self.speed = speed\n",
    "        self.click_speed = click_speed\n",
    "        self.message = ''\n",
    "        self.last_message = ''\n",
    "\n",
    "    # Navigate to the green dots for new messages\n",
    "    def nav_green_dot(self):\n",
    "        try:\n",
    "            position = pt.locateOnScreen('green_dot.png', confidence=.7)\n",
    "            pt.moveRel(-100, 0, duration=self.speed)\n",
    "            pt.doubleClick(interval=self.click_speed)\n",
    "        except Exception as e:\n",
    "            print('Exception (nav_green_dot): ', e)\n",
    "\n",
    "    # Navigate to our message input box\n",
    "    def nav_input_box(self):\n",
    "        try:\n",
    "            position = pt.locateOnScreen('paperclip.png', confidence=.7)\n",
    "            pt.moveTo(position[0:2], duration=self.speed)\n",
    "            pt.moveRel(100, 10, duration=self.speed)\n",
    "            pt.doubleClick(interval=self.click_speed)\n",
    "        except Exception as e:\n",
    "            print('Exception (nav_input_box): ', e)\n",
    "\n",
    "    # Navigates to the message we want to respond to\n",
    "    def nav_message(self):\n",
    "        try:\n",
    "            position = pt.locateOnScreen('paperclip.png', confidence=.7)\n",
    "            pt.moveTo(position[0:2], duration=self.speed)\n",
    "            pt.moveRel(10, -50, duration=self.speed)  # x,y has to be adjusted depending on your computer\n",
    "        except Exception as e:\n",
    "            print('Exception (nav_message): ', e)\n",
    "\n",
    "    # Copies the message that we want to process\n",
    "    def get_message(self):\n",
    "        mouse.click(Button.left, 3)\n",
    "        sleep(self.speed)\n",
    "        mouse.click(Button.right, 1)\n",
    "        sleep(self.speed)\n",
    "        pt.moveRel(10, 10, duration=self.speed)  # x,y has to be adjusted depending on your computer\n",
    "        mouse.click(Button.left, 1)\n",
    "        sleep(1)\n",
    "\n",
    "        # Gets and processes the message\n",
    "        self.message = pc.paste()\n",
    "        print('User says: ', self.message)\n",
    "\n",
    "    # Sends the message to the user\n",
    "    def send_message(self):\n",
    "        try:\n",
    "            # Checks whether the last message was the same\n",
    "            if self.message != self.last_message:\n",
    "                bot_response = response(self.message)\n",
    "                print('You say: ', bot_response)\n",
    "                pt.typewrite(bot_response, interval=.1)\n",
    "                pt.typewrite('\\n')  # Sends the message (Disable it while testing)\n",
    "\n",
    "                # Assigns them the same message\n",
    "                self.last_message = self.message\n",
    "            else:\n",
    "                print('No new messages...')\n",
    "\n",
    "        except Exception as e:\n",
    "            print('Exception (send_message): ', e)\n",
    "\n",
    "    # Close response box\n",
    "    def nav_x(self):\n",
    "        try:\n",
    "            position = pt.locateOnScreen('x.png', confidence=.7)\n",
    "            pt.moveTo(position[0:2], duration=self.speed)\n",
    "            pt.moveRel(10, 10, duration=self.speed)  # x,y has to be adjusted depending on your computer\n",
    "            mouse.click(Button.left, 1)\n",
    "        except Exception as e:\n",
    "            print('Exception (nav_x): ', e)\n",
    "\n",
    "\n",
    "# Initialises the WhatsApp Bot\n",
    "wa_bot = WhatsApp(speed=.5, click_speed=.4)\n",
    "\n",
    "# Run the programme in a loop\n",
    "while True:\n",
    "    wa_bot.nav_green_dot()\n",
    "    wa_bot.nav_x()\n",
    "    wa_bot.nav_message()\n",
    "    wa_bot.get_message()\n",
    "    wa_bot.nav_input_box()\n",
    "    wa_bot.send_message()\n",
    "\n",
    "    # Delay between checking for new messages\n",
    "    sleep(10)"
   ]
  },
  {
   "cell_type": "code",
   "execution_count": 13,
   "id": "a5c7fb44",
   "metadata": {},
   "outputs": [
    {
     "name": "stdout",
     "output_type": "stream",
     "text": [
      "Requirement already satisfied: Pillow in c:\\users\\cioffil\\desktop\\ds\\github\\wabot\\whatsapp bot source code\\venv\\lib\\site-packages (9.0.1)\n"
     ]
    }
   ],
   "source": [
    "!pip install Pillow"
   ]
  },
  {
   "cell_type": "code",
   "execution_count": 14,
   "id": "6a7ca515",
   "metadata": {},
   "outputs": [],
   "source": [
    "import PIL"
   ]
  },
  {
   "cell_type": "code",
   "execution_count": 20,
   "id": "d4a3f456",
   "metadata": {},
   "outputs": [
    {
     "ename": "PyScreezeException",
     "evalue": "The Pillow package is required to use this function.",
     "output_type": "error",
     "traceback": [
      "\u001b[1;31m---------------------------------------------------------------------------\u001b[0m",
      "\u001b[1;31mPyScreezeException\u001b[0m                        Traceback (most recent call last)",
      "Input \u001b[1;32mIn [20]\u001b[0m, in \u001b[0;36m<cell line: 3>\u001b[1;34m()\u001b[0m\n\u001b[0;32m      1\u001b[0m \u001b[38;5;28;01mimport\u001b[39;00m \u001b[38;5;21;01mPIL\u001b[39;00m\n\u001b[0;32m      2\u001b[0m \u001b[38;5;28;01mimport\u001b[39;00m \u001b[38;5;21;01mcv2\u001b[39;00m\n\u001b[1;32m----> 3\u001b[0m position \u001b[38;5;241m=\u001b[39m \u001b[43mpt\u001b[49m\u001b[38;5;241;43m.\u001b[39;49m\u001b[43mlocateOnScreen\u001b[49m\u001b[43m(\u001b[49m\u001b[38;5;124;43m'\u001b[39;49m\u001b[38;5;124;43mgreen_dot.png\u001b[39;49m\u001b[38;5;124;43m'\u001b[39;49m\u001b[43m,\u001b[49m\u001b[43m \u001b[49m\u001b[43mconfidence\u001b[49m\u001b[38;5;241;43m=\u001b[39;49m\u001b[38;5;241;43m.7\u001b[39;49m\u001b[43m)\u001b[49m\n",
      "File \u001b[1;32m~\\Desktop\\DS\\Github\\wabot\\WhatsApp Bot Source Code\\venv\\lib\\site-packages\\pyautogui\\__init__.py:175\u001b[0m, in \u001b[0;36mraisePyAutoGUIImageNotFoundException.<locals>.wrapper\u001b[1;34m(*args, **kwargs)\u001b[0m\n\u001b[0;32m    172\u001b[0m \u001b[38;5;129m@functools\u001b[39m\u001b[38;5;241m.\u001b[39mwraps(wrappedFunction)\n\u001b[0;32m    173\u001b[0m \u001b[38;5;28;01mdef\u001b[39;00m \u001b[38;5;21mwrapper\u001b[39m(\u001b[38;5;241m*\u001b[39margs, \u001b[38;5;241m*\u001b[39m\u001b[38;5;241m*\u001b[39mkwargs):\n\u001b[0;32m    174\u001b[0m     \u001b[38;5;28;01mtry\u001b[39;00m:\n\u001b[1;32m--> 175\u001b[0m         \u001b[38;5;28;01mreturn\u001b[39;00m wrappedFunction(\u001b[38;5;241m*\u001b[39margs, \u001b[38;5;241m*\u001b[39m\u001b[38;5;241m*\u001b[39mkwargs)\n\u001b[0;32m    176\u001b[0m     \u001b[38;5;28;01mexcept\u001b[39;00m pyscreeze\u001b[38;5;241m.\u001b[39mImageNotFoundException:\n\u001b[0;32m    177\u001b[0m         \u001b[38;5;28;01mraise\u001b[39;00m ImageNotFoundException\n",
      "File \u001b[1;32m~\\Desktop\\DS\\Github\\wabot\\WhatsApp Bot Source Code\\venv\\lib\\site-packages\\pyautogui\\__init__.py:213\u001b[0m, in \u001b[0;36mlocateOnScreen\u001b[1;34m(*args, **kwargs)\u001b[0m\n\u001b[0;32m    211\u001b[0m \u001b[38;5;129m@raisePyAutoGUIImageNotFoundException\u001b[39m\n\u001b[0;32m    212\u001b[0m \u001b[38;5;28;01mdef\u001b[39;00m \u001b[38;5;21mlocateOnScreen\u001b[39m(\u001b[38;5;241m*\u001b[39margs, \u001b[38;5;241m*\u001b[39m\u001b[38;5;241m*\u001b[39mkwargs):\n\u001b[1;32m--> 213\u001b[0m     \u001b[38;5;28;01mreturn\u001b[39;00m pyscreeze\u001b[38;5;241m.\u001b[39mlocateOnScreen(\u001b[38;5;241m*\u001b[39margs, \u001b[38;5;241m*\u001b[39m\u001b[38;5;241m*\u001b[39mkwargs)\n",
      "File \u001b[1;32m~\\Desktop\\DS\\Github\\wabot\\WhatsApp Bot Source Code\\venv\\lib\\site-packages\\pyscreeze\\__init__.py:372\u001b[0m, in \u001b[0;36mlocateOnScreen\u001b[1;34m(image, minSearchTime, **kwargs)\u001b[0m\n\u001b[0;32m    370\u001b[0m \u001b[38;5;28;01mwhile\u001b[39;00m \u001b[38;5;28;01mTrue\u001b[39;00m:\n\u001b[0;32m    371\u001b[0m     \u001b[38;5;28;01mtry\u001b[39;00m:\n\u001b[1;32m--> 372\u001b[0m         screenshotIm \u001b[38;5;241m=\u001b[39m \u001b[43mscreenshot\u001b[49m\u001b[43m(\u001b[49m\u001b[43mregion\u001b[49m\u001b[38;5;241;43m=\u001b[39;49m\u001b[38;5;28;43;01mNone\u001b[39;49;00m\u001b[43m)\u001b[49m \u001b[38;5;66;03m# the locateAll() function must handle cropping to return accurate coordinates, so don't pass a region here.\u001b[39;00m\n\u001b[0;32m    373\u001b[0m         retVal \u001b[38;5;241m=\u001b[39m locate(image, screenshotIm, \u001b[38;5;241m*\u001b[39m\u001b[38;5;241m*\u001b[39mkwargs)\n\u001b[0;32m    374\u001b[0m         \u001b[38;5;28;01mtry\u001b[39;00m:\n",
      "File \u001b[1;32m~\\Desktop\\DS\\Github\\wabot\\WhatsApp Bot Source Code\\venv\\lib\\site-packages\\pyscreeze\\__init__.py:144\u001b[0m, in \u001b[0;36mrequiresPillow.<locals>.wrapper\u001b[1;34m(*args, **kwargs)\u001b[0m\n\u001b[0;32m    141\u001b[0m \u001b[38;5;129m@functools\u001b[39m\u001b[38;5;241m.\u001b[39mwraps(wrappedFunction)\n\u001b[0;32m    142\u001b[0m \u001b[38;5;28;01mdef\u001b[39;00m \u001b[38;5;21mwrapper\u001b[39m(\u001b[38;5;241m*\u001b[39margs, \u001b[38;5;241m*\u001b[39m\u001b[38;5;241m*\u001b[39mkwargs):\n\u001b[0;32m    143\u001b[0m     \u001b[38;5;28;01mif\u001b[39;00m _PILLOW_UNAVAILABLE:\n\u001b[1;32m--> 144\u001b[0m         \u001b[38;5;28;01mraise\u001b[39;00m PyScreezeException(\u001b[38;5;124m'\u001b[39m\u001b[38;5;124mThe Pillow package is required to use this function.\u001b[39m\u001b[38;5;124m'\u001b[39m)\n\u001b[0;32m    145\u001b[0m     \u001b[38;5;28;01mreturn\u001b[39;00m wrappedFunction(\u001b[38;5;241m*\u001b[39margs, \u001b[38;5;241m*\u001b[39m\u001b[38;5;241m*\u001b[39mkwargs)\n",
      "\u001b[1;31mPyScreezeException\u001b[0m: The Pillow package is required to use this function."
     ]
    }
   ],
   "source": [
    "import PIL\n",
    "import cv2\n",
    "position = pt.locateOnScreen('green_dot.png', confidence=.7)"
   ]
  },
  {
   "cell_type": "code",
   "execution_count": 31,
   "id": "d3412c14",
   "metadata": {},
   "outputs": [
    {
     "ename": "PyScreezeException",
     "evalue": "The Pillow package is required to use this function.",
     "output_type": "error",
     "traceback": [
      "\u001b[1;31m---------------------------------------------------------------------------\u001b[0m",
      "\u001b[1;31mPyScreezeException\u001b[0m                        Traceback (most recent call last)",
      "Input \u001b[1;32mIn [31]\u001b[0m, in \u001b[0;36m<cell line: 3>\u001b[1;34m()\u001b[0m\n\u001b[0;32m      1\u001b[0m \u001b[38;5;28;01mimport\u001b[39;00m \u001b[38;5;21;01mPIL\u001b[39;00m\n\u001b[0;32m      2\u001b[0m \u001b[38;5;28;01mimport\u001b[39;00m \u001b[38;5;21;01mpyautogui\u001b[39;00m\n\u001b[1;32m----> 3\u001b[0m \u001b[43mpyautogui\u001b[49m\u001b[38;5;241;43m.\u001b[39;49m\u001b[43mscreenshot\u001b[49m\u001b[43m(\u001b[49m\u001b[43m)\u001b[49m\n",
      "File \u001b[1;32m~\\Desktop\\DS\\Github\\wabot\\WhatsApp Bot Source Code\\venv\\lib\\site-packages\\pyscreeze\\__init__.py:144\u001b[0m, in \u001b[0;36mrequiresPillow.<locals>.wrapper\u001b[1;34m(*args, **kwargs)\u001b[0m\n\u001b[0;32m    141\u001b[0m \u001b[38;5;129m@functools\u001b[39m\u001b[38;5;241m.\u001b[39mwraps(wrappedFunction)\n\u001b[0;32m    142\u001b[0m \u001b[38;5;28;01mdef\u001b[39;00m \u001b[38;5;21mwrapper\u001b[39m(\u001b[38;5;241m*\u001b[39margs, \u001b[38;5;241m*\u001b[39m\u001b[38;5;241m*\u001b[39mkwargs):\n\u001b[0;32m    143\u001b[0m     \u001b[38;5;28;01mif\u001b[39;00m _PILLOW_UNAVAILABLE:\n\u001b[1;32m--> 144\u001b[0m         \u001b[38;5;28;01mraise\u001b[39;00m PyScreezeException(\u001b[38;5;124m'\u001b[39m\u001b[38;5;124mThe Pillow package is required to use this function.\u001b[39m\u001b[38;5;124m'\u001b[39m)\n\u001b[0;32m    145\u001b[0m     \u001b[38;5;28;01mreturn\u001b[39;00m wrappedFunction(\u001b[38;5;241m*\u001b[39margs, \u001b[38;5;241m*\u001b[39m\u001b[38;5;241m*\u001b[39mkwargs)\n",
      "\u001b[1;31mPyScreezeException\u001b[0m: The Pillow package is required to use this function."
     ]
    }
   ],
   "source": [
    "import PIL\n",
    "import pyautogui\n",
    "pyautogui.screenshot()\n"
   ]
  },
  {
   "cell_type": "code",
   "execution_count": 24,
   "id": "ddbbfade",
   "metadata": {},
   "outputs": [
    {
     "name": "stdout",
     "output_type": "stream",
     "text": [
      "C:\\Users\\cioffil\\Desktop\\DS\\Github\\wabot\\WhatsApp Bot Source Code\\venv\\Scripts\\python.exe\n"
     ]
    }
   ],
   "source": [
    "import sys\n",
    "print( sys.executable )"
   ]
  },
  {
   "cell_type": "code",
   "execution_count": 28,
   "id": "6eb217af",
   "metadata": {},
   "outputs": [
    {
     "ename": "SyntaxError",
     "evalue": "invalid syntax (2273254252.py, line 4)",
     "output_type": "error",
     "traceback": [
      "\u001b[1;36m  Input \u001b[1;32mIn [28]\u001b[1;36m\u001b[0m\n\u001b[1;33m    call([executable, \"-m\", \"pip, \"install\", \"Pillow\"])\u001b[0m\n\u001b[1;37m                                   ^\u001b[0m\n\u001b[1;31mSyntaxError\u001b[0m\u001b[1;31m:\u001b[0m invalid syntax\n"
     ]
    }
   ],
   "source": [
    "from subprocess import *\n",
    "from sys import *\n",
    "\n",
    "call([executable, \"-m\", \"pip, \"install\", \"Pillow\"])"
   ]
  },
  {
   "cell_type": "code",
   "execution_count": 30,
   "id": "0b1a0a01",
   "metadata": {},
   "outputs": [
    {
     "name": "stdout",
     "output_type": "stream",
     "text": [
      "Collecting pyautogui\n",
      "  Using cached PyAutoGUI-0.9.53-py3-none-any.whl\n",
      "Collecting pyscreeze>=0.1.21\n",
      "  Using cached PyScreeze-0.1.28-py3-none-any.whl\n",
      "Collecting mouseinfo\n",
      "  Using cached MouseInfo-0.1.3-py3-none-any.whl\n",
      "Collecting pygetwindow>=0.0.5\n",
      "  Using cached PyGetWindow-0.0.9-py3-none-any.whl\n",
      "Collecting PyTweening>=1.0.1\n",
      "  Using cached pytweening-1.0.4-py3-none-any.whl\n",
      "Collecting pymsgbox\n",
      "  Using cached PyMsgBox-1.0.9-py3-none-any.whl\n",
      "Collecting pyrect\n",
      "  Using cached PyRect-0.1.4-py2.py3-none-any.whl\n",
      "Collecting pyperclip\n",
      "  Using cached pyperclip-1.8.2-py3-none-any.whl\n",
      "Installing collected packages: PyTweening, pyscreeze, pyrect, pyperclip, pymsgbox, pygetwindow, mouseinfo, pyautogui\n",
      "  Attempting uninstall: PyTweening\n",
      "    Found existing installation: pytweening 1.0.4\n",
      "    Uninstalling pytweening-1.0.4:\n",
      "      Successfully uninstalled pytweening-1.0.4\n",
      "  Attempting uninstall: pyscreeze\n",
      "    Found existing installation: PyScreeze 0.1.28\n",
      "    Uninstalling PyScreeze-0.1.28:\n",
      "      Successfully uninstalled PyScreeze-0.1.28\n",
      "  Attempting uninstall: pyrect\n",
      "    Found existing installation: PyRect 0.1.4\n",
      "    Uninstalling PyRect-0.1.4:\n",
      "      Successfully uninstalled PyRect-0.1.4\n",
      "  Attempting uninstall: pyperclip\n",
      "    Found existing installation: pyperclip 1.8.2\n",
      "    Uninstalling pyperclip-1.8.2:\n",
      "      Successfully uninstalled pyperclip-1.8.2\n",
      "  Attempting uninstall: pymsgbox\n",
      "    Found existing installation: PyMsgBox 1.0.9\n",
      "    Uninstalling PyMsgBox-1.0.9:\n",
      "      Successfully uninstalled PyMsgBox-1.0.9\n",
      "  Attempting uninstall: pygetwindow\n",
      "    Found existing installation: PyGetWindow 0.0.9\n",
      "    Uninstalling PyGetWindow-0.0.9:\n",
      "      Successfully uninstalled PyGetWindow-0.0.9\n",
      "  Attempting uninstall: mouseinfo\n",
      "    Found existing installation: MouseInfo 0.1.3\n",
      "    Uninstalling MouseInfo-0.1.3:\n",
      "      Successfully uninstalled MouseInfo-0.1.3\n",
      "  Attempting uninstall: pyautogui\n",
      "    Found existing installation: PyAutoGUI 0.9.53\n",
      "    Uninstalling PyAutoGUI-0.9.53:\n",
      "      Successfully uninstalled PyAutoGUI-0.9.53\n",
      "Successfully installed PyTweening-1.0.4 mouseinfo-0.1.3 pyautogui-0.9.53 pygetwindow-0.0.9 pymsgbox-1.0.9 pyperclip-1.8.2 pyrect-0.1.4 pyscreeze-0.1.28\n"
     ]
    }
   ],
   "source": [
    "!pip install --upgrade --force-reinstall pyautogui"
   ]
  }
 ],
 "metadata": {
  "kernelspec": {
   "display_name": "Python 3 (ipykernel)",
   "language": "python",
   "name": "python3"
  },
  "language_info": {
   "codemirror_mode": {
    "name": "ipython",
    "version": 3
   },
   "file_extension": ".py",
   "mimetype": "text/x-python",
   "name": "python",
   "nbconvert_exporter": "python",
   "pygments_lexer": "ipython3",
   "version": "3.9.10"
  }
 },
 "nbformat": 4,
 "nbformat_minor": 5
}
