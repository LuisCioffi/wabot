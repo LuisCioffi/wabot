{
 "cells": [
  {
   "cell_type": "code",
   "execution_count": 2,
   "id": "2c7a07fe",
   "metadata": {},
   "outputs": [],
   "source": [
    "import logging\n",
    "import requests\n",
    "from twilio.twiml.messaging_response import MessagingResponse\n",
    "\n",
    "logger = logging.getLogger(__name__)\n",
    "\n",
    "\n",
    "def whatsapp_webhook(request):\n",
    "    \"\"\"HTTP Cloud Function.\n",
    "    Parameters\n",
    "    ----------\n",
    "    request (flask.Request) : The request object.\n",
    "        <https://flask.palletsprojects.com/en/1.1.x/api/#incoming-request-data>\n",
    "    Returns\n",
    "    -------\n",
    "        The response text, or any set of values that can be turned into a\n",
    "        Response object using `make_response`\n",
    "        <https://flask.palletsprojects.com/en/1.1.x/api/#flask.make_response>.\n",
    "    \"\"\"\n",
    "\n",
    "    country = request.values.get('Body', \"\").lower()\n",
    "    resp = requests.get(f'https://restcountries.eu/rest/v2/name/{country}?fullText=true')\n",
    "    twilio_response = MessagingResponse()\n",
    "    msg = twilio_response.message()\n",
    "    if not (200 <= resp.status_code <= 299):\n",
    "        logger.error(\n",
    "            f'Failed to retrieve data for the following country - {country.title()}. Here is a more verbose reason {resp.reason}'\n",
    "        )\n",
    "        msg.body(\n",
    "            'Sorry we could not process your request. Please try again or check a different country'\n",
    "        )\n",
    "    else:\n",
    "        data = resp.json()[0]\n",
    "        native_name = data['nativeName']\n",
    "        capital = data['capital']\n",
    "        people = data['demonym']\n",
    "        region = data['region']\n",
    "        msg.body(\n",
    "            f\"{country.title()} is a country in {region}. It's capital city is {capital}, while it's native name is {native_name}. A person from {country.title()} is called a {people}.\"\n",
    "        )\n",
    "    return str(twilio_response)\n"
   ]
  },
  {
   "cell_type": "code",
   "execution_count": null,
   "id": "a8394676",
   "metadata": {},
   "outputs": [],
   "source": [
    "whatsapp_webhook"
   ]
  },
  {
   "cell_type": "code",
   "execution_count": 8,
   "id": "11bf1802",
   "metadata": {},
   "outputs": [
    {
     "name": "stderr",
     "output_type": "stream",
     "text": [
      "C:\\Users\\cioffil\\Desktop\\DS\\Github\\wabot\\WhatsApp Bot Source Code\\venv\\lib\\site-packages\\IPython\\core\\magics\\execution.py:490: UserWarning: Error changing user exception modes.\n",
      "Unrecognized mode in FormattedTB: <App.run(debug=true)>\n",
      "Valid modes: ['Plain', 'Context', 'Verbose', 'Minimal']\n",
      "  warn('Error changing %s exception modes.\\n%s' %\n"
     ]
    }
   ],
   "source": [
    " from flask import Flask\n",
    "app = Flask(__name__)\n",
    "\n",
    "@app.route(\"/\")\n",
    "def hello():\n",
    "  return \"Hello World!\"\n",
    "%tb app.run(debug=True)"
   ]
  },
  {
   "cell_type": "code",
   "execution_count": 4,
   "id": "5cbcaf99",
   "metadata": {},
   "outputs": [
    {
     "name": "stdout",
     "output_type": "stream",
     "text": [
      "Collecting flask\n",
      "  Downloading Flask-2.0.3-py3-none-any.whl (95 kB)\n",
      "     ---------------------------------------- 95.6/95.6 KB 2.8 MB/s eta 0:00:00\n",
      "Collecting itsdangerous>=2.0\n",
      "  Downloading itsdangerous-2.1.0-py3-none-any.whl (15 kB)\n",
      "Collecting click>=7.1.2\n",
      "  Using cached click-8.0.4-py3-none-any.whl (97 kB)\n",
      "Requirement already satisfied: Jinja2>=3.0 in c:\\users\\cioffil\\desktop\\ds\\github\\wabot\\whatsapp bot source code\\venv\\lib\\site-packages (from flask) (3.0.3)\n",
      "Collecting Werkzeug>=2.0\n",
      "  Downloading Werkzeug-2.0.3-py3-none-any.whl (289 kB)\n",
      "     -------------------------------------- 289.2/289.2 KB 1.5 MB/s eta 0:00:00\n",
      "Requirement already satisfied: colorama in c:\\users\\cioffil\\desktop\\ds\\github\\wabot\\whatsapp bot source code\\venv\\lib\\site-packages (from click>=7.1.2->flask) (0.4.4)\n",
      "Requirement already satisfied: MarkupSafe>=2.0 in c:\\users\\cioffil\\desktop\\ds\\github\\wabot\\whatsapp bot source code\\venv\\lib\\site-packages (from Jinja2>=3.0->flask) (2.1.0)\n",
      "Installing collected packages: Werkzeug, itsdangerous, click, flask\n",
      "Successfully installed Werkzeug-2.0.3 click-8.0.4 flask-2.0.3 itsdangerous-2.1.0\n"
     ]
    }
   ],
   "source": [
    "!pip install flask"
   ]
  }
 ],
 "metadata": {
  "kernelspec": {
   "display_name": "Python 3 (ipykernel)",
   "language": "python",
   "name": "python3"
  },
  "language_info": {
   "codemirror_mode": {
    "name": "ipython",
    "version": 3
   },
   "file_extension": ".py",
   "mimetype": "text/x-python",
   "name": "python",
   "nbconvert_exporter": "python",
   "pygments_lexer": "ipython3",
   "version": "3.9.10"
  }
 },
 "nbformat": 4,
 "nbformat_minor": 5
}
